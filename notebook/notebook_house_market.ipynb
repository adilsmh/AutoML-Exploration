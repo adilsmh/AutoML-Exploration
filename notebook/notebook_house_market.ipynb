{
 "cells": [
  {
   "cell_type": "markdown",
   "source": [
    "# Import libraries"
   ],
   "metadata": {
    "collapsed": false
   }
  },
  {
   "cell_type": "code",
   "execution_count": 1,
   "outputs": [
    {
     "name": "stderr",
     "output_type": "stream",
     "text": [
      "C:\\Users\\Adil\\anaconda3\\lib\\site-packages\\tpot\\builtins\\__init__.py:36: UserWarning: Warning: optional dependency `torch` is not available. - skipping import of NN models.\n",
      "  warnings.warn(\"Warning: optional dependency `torch` is not available. - skipping import of NN models.\")\n"
     ]
    }
   ],
   "source": [
    "import os\n",
    "\n",
    "import pandas as pd\n",
    "import numpy as np\n",
    "import seaborn as sns\n",
    "import matplotlib.pyplot as plt\n",
    "\n",
    "from tpot import TPOTRegressor\n",
    "from sklearn.pipeline import Pipeline\n",
    "from sklearn.model_selection import train_test_split\n",
    "from sklearn.model_selection import learning_curve"
   ],
   "metadata": {
    "collapsed": false,
    "pycharm": {
     "name": "#%%\n"
    }
   }
  },
  {
   "cell_type": "markdown",
   "source": [
    "# Data Fetching"
   ],
   "metadata": {
    "collapsed": false
   }
  },
  {
   "cell_type": "code",
   "execution_count": 13,
   "outputs": [],
   "source": [
    "file_path= os.path.join(\"../data/data_house_market.csv\") # Filepath of CSV file"
   ],
   "metadata": {
    "collapsed": false,
    "pycharm": {
     "name": "#%%\n"
    }
   }
  },
  {
   "cell_type": "code",
   "execution_count": 14,
   "outputs": [
    {
     "data": {
      "text/plain": "   Unnamed: 0  longitude  latitude  housing_median_age  total_rooms  \\\n0        2072    -119.84     36.77                 6.0       1853.0   \n1       10600    -117.80     33.68                 8.0       2032.0   \n2        2494    -120.19     36.60                25.0        875.0   \n3        4284    -118.32     34.10                31.0        622.0   \n4       16541    -121.23     37.79                21.0       1922.0   \n\n   total_bedrooms  population  households  median_income  median_house_value  \\\n0           473.0      1397.0       417.0         1.4817             72000.0   \n1           349.0       862.0       340.0         6.9133            274100.0   \n2           214.0       931.0       214.0         1.5536             58300.0   \n3           229.0       597.0       227.0         1.5284            200000.0   \n4           373.0      1130.0       372.0         4.0815            117900.0   \n\n  ocean_proximity  \n0          INLAND  \n1       <1H OCEAN  \n2          INLAND  \n3       <1H OCEAN  \n4          INLAND  ",
      "text/html": "<div>\n<style scoped>\n    .dataframe tbody tr th:only-of-type {\n        vertical-align: middle;\n    }\n\n    .dataframe tbody tr th {\n        vertical-align: top;\n    }\n\n    .dataframe thead th {\n        text-align: right;\n    }\n</style>\n<table border=\"1\" class=\"dataframe\">\n  <thead>\n    <tr style=\"text-align: right;\">\n      <th></th>\n      <th>Unnamed: 0</th>\n      <th>longitude</th>\n      <th>latitude</th>\n      <th>housing_median_age</th>\n      <th>total_rooms</th>\n      <th>total_bedrooms</th>\n      <th>population</th>\n      <th>households</th>\n      <th>median_income</th>\n      <th>median_house_value</th>\n      <th>ocean_proximity</th>\n    </tr>\n  </thead>\n  <tbody>\n    <tr>\n      <th>0</th>\n      <td>2072</td>\n      <td>-119.84</td>\n      <td>36.77</td>\n      <td>6.0</td>\n      <td>1853.0</td>\n      <td>473.0</td>\n      <td>1397.0</td>\n      <td>417.0</td>\n      <td>1.4817</td>\n      <td>72000.0</td>\n      <td>INLAND</td>\n    </tr>\n    <tr>\n      <th>1</th>\n      <td>10600</td>\n      <td>-117.80</td>\n      <td>33.68</td>\n      <td>8.0</td>\n      <td>2032.0</td>\n      <td>349.0</td>\n      <td>862.0</td>\n      <td>340.0</td>\n      <td>6.9133</td>\n      <td>274100.0</td>\n      <td>&lt;1H OCEAN</td>\n    </tr>\n    <tr>\n      <th>2</th>\n      <td>2494</td>\n      <td>-120.19</td>\n      <td>36.60</td>\n      <td>25.0</td>\n      <td>875.0</td>\n      <td>214.0</td>\n      <td>931.0</td>\n      <td>214.0</td>\n      <td>1.5536</td>\n      <td>58300.0</td>\n      <td>INLAND</td>\n    </tr>\n    <tr>\n      <th>3</th>\n      <td>4284</td>\n      <td>-118.32</td>\n      <td>34.10</td>\n      <td>31.0</td>\n      <td>622.0</td>\n      <td>229.0</td>\n      <td>597.0</td>\n      <td>227.0</td>\n      <td>1.5284</td>\n      <td>200000.0</td>\n      <td>&lt;1H OCEAN</td>\n    </tr>\n    <tr>\n      <th>4</th>\n      <td>16541</td>\n      <td>-121.23</td>\n      <td>37.79</td>\n      <td>21.0</td>\n      <td>1922.0</td>\n      <td>373.0</td>\n      <td>1130.0</td>\n      <td>372.0</td>\n      <td>4.0815</td>\n      <td>117900.0</td>\n      <td>INLAND</td>\n    </tr>\n  </tbody>\n</table>\n</div>"
     },
     "execution_count": 14,
     "metadata": {},
     "output_type": "execute_result"
    }
   ],
   "source": [
    "df = pd.read_csv(file_path)\n",
    "df.head()"
   ],
   "metadata": {
    "collapsed": false,
    "pycharm": {
     "name": "#%%\n"
    }
   }
  },
  {
   "cell_type": "markdown",
   "source": [
    "# Data Cleaning"
   ],
   "metadata": {
    "collapsed": false
   }
  },
  {
   "cell_type": "code",
   "execution_count": 15,
   "outputs": [],
   "source": [
    "#dropping 'Unnamed: 0' column\n",
    "df = df.drop(['Unnamed: 0'], axis=1)"
   ],
   "metadata": {
    "collapsed": false,
    "pycharm": {
     "name": "#%%\n"
    }
   }
  },
  {
   "cell_type": "code",
   "execution_count": 16,
   "outputs": [
    {
     "data": {
      "text/plain": "0    14817.0\n1    69133.0\n2    15536.0\n3    15284.0\n4    40815.0\nName: median_income, dtype: float64"
     },
     "execution_count": 16,
     "metadata": {},
     "output_type": "execute_result"
    }
   ],
   "source": [
    "#converting median_income to a dollar unit instead of a ten thousand dollar unit\n",
    "ten_thousand_dollar_unit = 10000\n",
    "df['median_income'] = df.median_income * ten_thousand_dollar_unit"
   ],
   "metadata": {
    "collapsed": false,
    "pycharm": {
     "name": "#%%\n"
    }
   }
  },
  {
   "cell_type": "code",
   "execution_count": 17,
   "outputs": [],
   "source": [
    "df = df.interpolate()"
   ],
   "metadata": {
    "collapsed": false,
    "pycharm": {
     "name": "#%%\n"
    }
   }
  },
  {
   "cell_type": "code",
   "execution_count": 21,
   "outputs": [
    {
     "name": "stdout",
     "output_type": "stream",
     "text": [
      "       <1H OCEAN  INLAND  ISLAND  NEAR BAY  NEAR OCEAN\n",
      "0              0       1       0         0           0\n",
      "1              1       0       0         0           0\n",
      "2              0       1       0         0           0\n",
      "3              1       0       0         0           0\n",
      "4              0       1       0         0           0\n",
      "...          ...     ...     ...       ...         ...\n",
      "16507          0       1       0         0           0\n",
      "16508          0       0       0         1           0\n",
      "16509          0       1       0         0           0\n",
      "16510          1       0       0         0           0\n",
      "16511          0       0       0         0           1\n",
      "\n",
      "[16512 rows x 5 columns]\n"
     ]
    }
   ],
   "source": [
    "# Using get_dummies() pandas method to return a dataframe with ocean_proximity instances as dummy variables.\n",
    "dummy_ocn_prx = pd.get_dummies(df.ocean_proximity)"
   ],
   "metadata": {
    "collapsed": false,
    "pycharm": {
     "name": "#%%\n"
    }
   }
  },
  {
   "cell_type": "code",
   "execution_count": 22,
   "outputs": [],
   "source": [
    "# merging encoded feature instances\n",
    "df = pd.merge(\n",
    "    left=df,\n",
    "    right=dummy_ocn_prx,\n",
    "    left_index=True,\n",
    "    right_index=True,\n",
    "    )"
   ],
   "metadata": {
    "collapsed": false,
    "pycharm": {
     "name": "#%%\n"
    }
   }
  },
  {
   "cell_type": "code",
   "execution_count": 24,
   "outputs": [],
   "source": [
    "df = df.drop('ocean_proximity', axis=1)"
   ],
   "metadata": {
    "collapsed": false,
    "pycharm": {
     "name": "#%%\n"
    }
   }
  },
  {
   "cell_type": "markdown",
   "source": [
    "# Feature Selections"
   ],
   "metadata": {
    "collapsed": false
   }
  },
  {
   "cell_type": "code",
   "execution_count": 25,
   "outputs": [],
   "source": [
    "X = df.drop('median_house_value', axis=1)  # List of features which are required for model training\n",
    "y = df['median_house_value']  # Target feature for prediction"
   ],
   "metadata": {
    "collapsed": false,
    "pycharm": {
     "name": "#%%\n"
    }
   }
  },
  {
   "cell_type": "markdown",
   "source": [
    "# ML Modeling"
   ],
   "metadata": {
    "collapsed": false
   }
  },
  {
   "cell_type": "markdown",
   "source": [
    "## TPOT Regressor"
   ],
   "metadata": {
    "collapsed": false
   }
  },
  {
   "cell_type": "markdown",
   "source": [
    "### Data Splitting"
   ],
   "metadata": {
    "collapsed": false
   }
  },
  {
   "cell_type": "code",
   "execution_count": 26,
   "outputs": [],
   "source": [
    "X_train, X_test, y_train, y_test = train_test_split(X, y, train_size=0.75, test_size=0.25)"
   ],
   "metadata": {
    "collapsed": false,
    "pycharm": {
     "name": "#%%\n"
    }
   }
  },
  {
   "cell_type": "code",
   "execution_count": 27,
   "outputs": [
    {
     "data": {
      "text/plain": "Optimization Progress:   0%|          | 0/120 [00:00<?, ?pipeline/s]",
      "application/vnd.jupyter.widget-view+json": {
       "version_major": 2,
       "version_minor": 0,
       "model_id": "806799643a0245d4a9b90fbbef1bca05"
      }
     },
     "metadata": {},
     "output_type": "display_data"
    },
    {
     "name": "stdout",
     "output_type": "stream",
     "text": [
      "\n",
      "Generation 1 - Current best internal CV score: 0.7869124058854415\n",
      "\n",
      "Generation 2 - Current best internal CV score: 0.7888924158541023\n",
      "\n",
      "Generation 3 - Current best internal CV score: 0.7888924158541023\n",
      "\n",
      "Generation 4 - Current best internal CV score: 0.8068810690635541\n",
      "\n",
      "Generation 5 - Current best internal CV score: 0.8092607835057766\n",
      "\n",
      "Best pipeline: KNeighborsRegressor(RandomForestRegressor(input_matrix, bootstrap=True, max_features=0.7000000000000001, min_samples_leaf=5, min_samples_split=7, n_estimators=100), n_neighbors=59, p=1, weights=uniform)\n"
     ]
    },
    {
     "data": {
      "text/plain": "TPOTRegressor(generations=5, population_size=20, scoring='r2', verbosity=2)"
     },
     "execution_count": 27,
     "metadata": {},
     "output_type": "execute_result"
    }
   ],
   "source": [
    "pipeline_optimizer = TPOTRegressor(generations=5, population_size=20, cv=5, verbosity=2, scoring='r2')\n",
    "pipeline_optimizer.fit(X_train, y_train)"
   ],
   "metadata": {
    "collapsed": false,
    "pycharm": {
     "name": "#%%\n"
    }
   }
  },
  {
   "cell_type": "markdown",
   "source": [
    "### Model export"
   ],
   "metadata": {
    "collapsed": false
   }
  },
  {
   "cell_type": "code",
   "execution_count": 28,
   "outputs": [],
   "source": [
    "pipeline_optimizer.export('../models/tpot_house_market_prediction.py')"
   ],
   "metadata": {
    "collapsed": false,
    "pycharm": {
     "name": "#%%\n"
    }
   }
  },
  {
   "cell_type": "markdown",
   "source": [
    "### Model instantiation"
   ],
   "metadata": {
    "collapsed": false
   }
  },
  {
   "cell_type": "markdown",
   "source": [
    "### Model performance"
   ],
   "metadata": {
    "collapsed": false
   }
  },
  {
   "cell_type": "code",
   "execution_count": null,
   "outputs": [],
   "source": [
    "# Get train scores, train sizes, and validation scores using `learning_curve`, recall\n",
    "def learning_curves(model, features, target):\n",
    "    train_sizes, train_scores, test_scores = learning_curve(estimator = model,\n",
    "                                                            X = features,\n",
    "                                                            y = target,\n",
    "                                                            train_sizes = [5,10,50,100,200,500,1000,2000,3000,5000],\n",
    "                                                            cv = 5,\n",
    "                                                            scoring='r2',\n",
    "                                                            shuffle = True,\n",
    "                                                            random_state=3)\n",
    "\n",
    "    # Take the mean of cross-validated train scores and validation scores\n",
    "    train_scores_mean = np.mean(train_scores, axis=1)\n",
    "    test_scores_mean = np.mean(test_scores, axis=1)\n",
    "\n",
    "    # Plot the learning curves!\n",
    "    plt.plot(train_sizes, train_scores_mean, label = 'Training score')\n",
    "    plt.plot(train_sizes, test_scores_mean, label = 'Test score')\n",
    "    plt.ylabel('Recall', fontsize = 14)\n",
    "    plt.xlabel('Training set size', fontsize = 14)\n",
    "    plt.title('Learning curves - log model', fontsize = 18, y = 1.03)\n",
    "    plt.legend()\n",
    "    plt.show()\n"
   ],
   "metadata": {
    "collapsed": false,
    "pycharm": {
     "name": "#%%\n"
    }
   }
  }
 ],
 "metadata": {
  "kernelspec": {
   "display_name": "Python 3",
   "language": "python",
   "name": "python3"
  },
  "language_info": {
   "codemirror_mode": {
    "name": "ipython",
    "version": 2
   },
   "file_extension": ".py",
   "mimetype": "text/x-python",
   "name": "python",
   "nbconvert_exporter": "python",
   "pygments_lexer": "ipython2",
   "version": "2.7.6"
  }
 },
 "nbformat": 4,
 "nbformat_minor": 0
}