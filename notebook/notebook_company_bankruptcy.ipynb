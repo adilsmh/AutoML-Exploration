{
 "cells": [
  {
   "cell_type": "markdown",
   "source": [
    "# Import libraries"
   ],
   "metadata": {
    "collapsed": false
   }
  },
  {
   "cell_type": "code",
   "execution_count": 10,
   "outputs": [],
   "source": [
    "import os\n",
    "\n",
    "import pandas as pd\n",
    "\n",
    "from tpot import TPOTClassifier\n",
    "from sklearn.model_selection import train_test_split"
   ],
   "metadata": {
    "collapsed": false,
    "pycharm": {
     "name": "#%%\n"
    }
   }
  },
  {
   "cell_type": "markdown",
   "source": [
    "# Data Fetching"
   ],
   "metadata": {
    "collapsed": false
   }
  },
  {
   "cell_type": "code",
   "execution_count": 2,
   "outputs": [],
   "source": [
    "file_path= os.path.join(\"../data/data_bankruptcy.csv\") # Filepath of CSV file"
   ],
   "metadata": {
    "collapsed": false,
    "pycharm": {
     "name": "#%%\n"
    }
   }
  },
  {
   "cell_type": "code",
   "execution_count": 3,
   "outputs": [
    {
     "data": {
      "text/plain": "   Bankrupt?   ROA(C) before interest and depreciation before interest  \\\n0          1                                           0.370594          \n1          1                                           0.464291          \n2          1                                           0.426071          \n3          1                                           0.399844          \n4          1                                           0.465022          \n\n    ROA(A) before interest and % after tax  \\\n0                                 0.424389   \n1                                 0.538214   \n2                                 0.499019   \n3                                 0.451265   \n4                                 0.538432   \n\n    ROA(B) before interest and depreciation after tax  \\\n0                                           0.405750    \n1                                           0.516730    \n2                                           0.472295    \n3                                           0.457733    \n4                                           0.522298    \n\n    Operating Gross Margin   Realized Sales Gross Margin  \\\n0                 0.601457                      0.601457   \n1                 0.610235                      0.610235   \n2                 0.601450                      0.601364   \n3                 0.583541                      0.583541   \n4                 0.598783                      0.598783   \n\n    Operating Profit Rate   Pre-tax net Interest Rate  \\\n0                0.998969                    0.796887   \n1                0.998946                    0.797380   \n2                0.998857                    0.796403   \n3                0.998700                    0.796967   \n4                0.998973                    0.797366   \n\n    After-tax net Interest Rate   Non-industry income and expenditure/revenue  \\\n0                      0.808809                                      0.302646   \n1                      0.809301                                      0.303556   \n2                      0.808388                                      0.302035   \n3                      0.808966                                      0.303350   \n4                      0.809304                                      0.303475   \n\n   ...   Net Income to Total Assets   Total assets to GNP price  \\\n0  ...                     0.716845                    0.009219   \n1  ...                     0.795297                    0.008323   \n2  ...                     0.774670                    0.040003   \n3  ...                     0.739555                    0.003252   \n4  ...                     0.795016                    0.003878   \n\n    No-credit Interval   Gross Profit to Sales  \\\n0             0.622879                0.601453   \n1             0.623652                0.610237   \n2             0.623841                0.601449   \n3             0.622929                0.583538   \n4             0.623521                0.598782   \n\n    Net Income to Stockholder's Equity   Liability to Equity  \\\n0                             0.827890              0.290202   \n1                             0.839969              0.283846   \n2                             0.836774              0.290189   \n3                             0.834697              0.281721   \n4                             0.839973              0.278514   \n\n    Degree of Financial Leverage (DFL)  \\\n0                             0.026601   \n1                             0.264577   \n2                             0.026555   \n3                             0.026697   \n4                             0.024752   \n\n    Interest Coverage Ratio (Interest expense to EBIT)   Net Income Flag  \\\n0                                           0.564050                   1   \n1                                           0.570175                   1   \n2                                           0.563706                   1   \n3                                           0.564663                   1   \n4                                           0.575617                   1   \n\n    Equity to Liability  \n0              0.016469  \n1              0.020794  \n2              0.016474  \n3              0.023982  \n4              0.035490  \n\n[5 rows x 96 columns]",
      "text/html": "<div>\n<style scoped>\n    .dataframe tbody tr th:only-of-type {\n        vertical-align: middle;\n    }\n\n    .dataframe tbody tr th {\n        vertical-align: top;\n    }\n\n    .dataframe thead th {\n        text-align: right;\n    }\n</style>\n<table border=\"1\" class=\"dataframe\">\n  <thead>\n    <tr style=\"text-align: right;\">\n      <th></th>\n      <th>Bankrupt?</th>\n      <th>ROA(C) before interest and depreciation before interest</th>\n      <th>ROA(A) before interest and % after tax</th>\n      <th>ROA(B) before interest and depreciation after tax</th>\n      <th>Operating Gross Margin</th>\n      <th>Realized Sales Gross Margin</th>\n      <th>Operating Profit Rate</th>\n      <th>Pre-tax net Interest Rate</th>\n      <th>After-tax net Interest Rate</th>\n      <th>Non-industry income and expenditure/revenue</th>\n      <th>...</th>\n      <th>Net Income to Total Assets</th>\n      <th>Total assets to GNP price</th>\n      <th>No-credit Interval</th>\n      <th>Gross Profit to Sales</th>\n      <th>Net Income to Stockholder's Equity</th>\n      <th>Liability to Equity</th>\n      <th>Degree of Financial Leverage (DFL)</th>\n      <th>Interest Coverage Ratio (Interest expense to EBIT)</th>\n      <th>Net Income Flag</th>\n      <th>Equity to Liability</th>\n    </tr>\n  </thead>\n  <tbody>\n    <tr>\n      <th>0</th>\n      <td>1</td>\n      <td>0.370594</td>\n      <td>0.424389</td>\n      <td>0.405750</td>\n      <td>0.601457</td>\n      <td>0.601457</td>\n      <td>0.998969</td>\n      <td>0.796887</td>\n      <td>0.808809</td>\n      <td>0.302646</td>\n      <td>...</td>\n      <td>0.716845</td>\n      <td>0.009219</td>\n      <td>0.622879</td>\n      <td>0.601453</td>\n      <td>0.827890</td>\n      <td>0.290202</td>\n      <td>0.026601</td>\n      <td>0.564050</td>\n      <td>1</td>\n      <td>0.016469</td>\n    </tr>\n    <tr>\n      <th>1</th>\n      <td>1</td>\n      <td>0.464291</td>\n      <td>0.538214</td>\n      <td>0.516730</td>\n      <td>0.610235</td>\n      <td>0.610235</td>\n      <td>0.998946</td>\n      <td>0.797380</td>\n      <td>0.809301</td>\n      <td>0.303556</td>\n      <td>...</td>\n      <td>0.795297</td>\n      <td>0.008323</td>\n      <td>0.623652</td>\n      <td>0.610237</td>\n      <td>0.839969</td>\n      <td>0.283846</td>\n      <td>0.264577</td>\n      <td>0.570175</td>\n      <td>1</td>\n      <td>0.020794</td>\n    </tr>\n    <tr>\n      <th>2</th>\n      <td>1</td>\n      <td>0.426071</td>\n      <td>0.499019</td>\n      <td>0.472295</td>\n      <td>0.601450</td>\n      <td>0.601364</td>\n      <td>0.998857</td>\n      <td>0.796403</td>\n      <td>0.808388</td>\n      <td>0.302035</td>\n      <td>...</td>\n      <td>0.774670</td>\n      <td>0.040003</td>\n      <td>0.623841</td>\n      <td>0.601449</td>\n      <td>0.836774</td>\n      <td>0.290189</td>\n      <td>0.026555</td>\n      <td>0.563706</td>\n      <td>1</td>\n      <td>0.016474</td>\n    </tr>\n    <tr>\n      <th>3</th>\n      <td>1</td>\n      <td>0.399844</td>\n      <td>0.451265</td>\n      <td>0.457733</td>\n      <td>0.583541</td>\n      <td>0.583541</td>\n      <td>0.998700</td>\n      <td>0.796967</td>\n      <td>0.808966</td>\n      <td>0.303350</td>\n      <td>...</td>\n      <td>0.739555</td>\n      <td>0.003252</td>\n      <td>0.622929</td>\n      <td>0.583538</td>\n      <td>0.834697</td>\n      <td>0.281721</td>\n      <td>0.026697</td>\n      <td>0.564663</td>\n      <td>1</td>\n      <td>0.023982</td>\n    </tr>\n    <tr>\n      <th>4</th>\n      <td>1</td>\n      <td>0.465022</td>\n      <td>0.538432</td>\n      <td>0.522298</td>\n      <td>0.598783</td>\n      <td>0.598783</td>\n      <td>0.998973</td>\n      <td>0.797366</td>\n      <td>0.809304</td>\n      <td>0.303475</td>\n      <td>...</td>\n      <td>0.795016</td>\n      <td>0.003878</td>\n      <td>0.623521</td>\n      <td>0.598782</td>\n      <td>0.839973</td>\n      <td>0.278514</td>\n      <td>0.024752</td>\n      <td>0.575617</td>\n      <td>1</td>\n      <td>0.035490</td>\n    </tr>\n  </tbody>\n</table>\n<p>5 rows × 96 columns</p>\n</div>"
     },
     "execution_count": 3,
     "metadata": {},
     "output_type": "execute_result"
    }
   ],
   "source": [
    "df = pd.read_csv(file_path)\n",
    "df.head()"
   ],
   "metadata": {
    "collapsed": false,
    "pycharm": {
     "name": "#%%\n"
    }
   }
  },
  {
   "cell_type": "markdown",
   "source": [
    "# Data Cleaning"
   ],
   "metadata": {
    "collapsed": false
   }
  },
  {
   "cell_type": "code",
   "execution_count": 13,
   "outputs": [],
   "source": [
    "# drop the space before title of columns\n",
    "df.columns = [c.replace(\" \",\"\", 1) if c.startswith(' ') else c for c in df.columns]"
   ],
   "metadata": {
    "collapsed": false,
    "pycharm": {
     "name": "#%%\n"
    }
   }
  },
  {
   "cell_type": "code",
   "execution_count": 14,
   "outputs": [],
   "source": [
    "# drop 'Net Income Flag' feature\n",
    "df = df.drop('Net Income Flag', axis=1)"
   ],
   "metadata": {
    "collapsed": false,
    "pycharm": {
     "name": "#%%\n"
    }
   }
  },
  {
   "cell_type": "markdown",
   "source": [
    "# Feature Selections"
   ],
   "metadata": {
    "collapsed": false
   }
  },
  {
   "cell_type": "code",
   "execution_count": 15,
   "outputs": [],
   "source": [
    "X = df.iloc[:, 1:]  # List of features which are required for model training\n",
    "y = df['Bankrupt?']  # Target feature for prediction."
   ],
   "metadata": {
    "collapsed": false,
    "pycharm": {
     "name": "#%%\n"
    }
   }
  },
  {
   "cell_type": "markdown",
   "source": [
    "# ML Modeling"
   ],
   "metadata": {
    "collapsed": false,
    "pycharm": {
     "name": "#%% md\n"
    }
   }
  },
  {
   "cell_type": "markdown",
   "source": [
    "## TPOT Classifier"
   ],
   "metadata": {
    "collapsed": false,
    "pycharm": {
     "name": "#%% md\n"
    }
   }
  },
  {
   "cell_type": "markdown",
   "source": [
    "### Data Splitting"
   ],
   "metadata": {
    "collapsed": false
   }
  },
  {
   "cell_type": "code",
   "execution_count": 16,
   "outputs": [],
   "source": [
    "X_train, X_test, y_train, y_test = train_test_split(X, y, train_size=0.75, test_size=0.25)"
   ],
   "metadata": {
    "collapsed": false,
    "pycharm": {
     "name": "#%%\n"
    }
   }
  },
  {
   "cell_type": "markdown",
   "source": [
    "### Preprocessing pipelines"
   ],
   "metadata": {
    "collapsed": false
   }
  },
  {
   "cell_type": "code",
   "execution_count": 20,
   "outputs": [
    {
     "data": {
      "text/plain": "Optimization Progress:   0%|          | 0/60 [00:00<?, ?pipeline/s]",
      "application/vnd.jupyter.widget-view+json": {
       "version_major": 2,
       "version_minor": 0,
       "model_id": "fcd8f4a91543493cb77ce25495b4a4fc"
      }
     },
     "metadata": {},
     "output_type": "display_data"
    },
    {
     "name": "stdout",
     "output_type": "stream",
     "text": [
      "\n",
      "Generation 1 - Current best internal CV score: 0.3653409090909091\n",
      "\n",
      "Generation 2 - Current best internal CV score: 0.7731060606060607\n",
      "\n",
      "Generation 3 - Current best internal CV score: 0.8465909090909092\n",
      "\n",
      "Generation 4 - Current best internal CV score: 0.8465909090909092\n",
      "\n",
      "Generation 5 - Current best internal CV score: 0.9450757575757576\n",
      "\n",
      "Best pipeline: GaussianNB(input_matrix)\n"
     ]
    },
    {
     "data": {
      "text/plain": "TPOTClassifier(generations=5, population_size=10, scoring='recall', verbosity=2)"
     },
     "execution_count": 20,
     "metadata": {},
     "output_type": "execute_result"
    }
   ],
   "source": [
    "pipeline_optimizer = TPOTClassifier(generations=5, population_size=20, cv=5, verbosity=2, scoring='recall')\n",
    "pipeline_optimizer.fit(X_train, y_train)"
   ],
   "metadata": {
    "collapsed": false,
    "pycharm": {
     "name": "#%%\n"
    }
   }
  },
  {
   "cell_type": "markdown",
   "source": [
    "### Performance metrics"
   ],
   "metadata": {
    "collapsed": false
   }
  },
  {
   "cell_type": "code",
   "execution_count": 21,
   "outputs": [
    {
     "name": "stdout",
     "output_type": "stream",
     "text": [
      "0.9642857142857143\n"
     ]
    }
   ],
   "source": [
    "print(pipeline_optimizer.score(X_test, y_test))"
   ],
   "metadata": {
    "collapsed": false,
    "pycharm": {
     "name": "#%%\n"
    }
   }
  },
  {
   "cell_type": "markdown",
   "source": [
    "### Model export"
   ],
   "metadata": {
    "collapsed": false,
    "pycharm": {
     "name": "#%% md\n"
    }
   }
  },
  {
   "cell_type": "code",
   "execution_count": 23,
   "outputs": [],
   "source": [
    "pipeline_optimizer.export('../models/tpot_company_bankruptcy.py')"
   ],
   "metadata": {
    "collapsed": false,
    "pycharm": {
     "name": "#%%\n"
    }
   }
  },
  {
   "cell_type": "markdown",
   "source": [
    "### Model Exploration"
   ],
   "metadata": {
    "collapsed": false,
    "pycharm": {
     "name": "#%% md\n"
    }
   }
  },
  {
   "cell_type": "code",
   "execution_count": null,
   "outputs": [],
   "source": [],
   "metadata": {
    "collapsed": false,
    "pycharm": {
     "name": "#%%\n"
    }
   }
  },
  {
   "cell_type": "code",
   "execution_count": null,
   "outputs": [],
   "source": [],
   "metadata": {
    "collapsed": false,
    "pycharm": {
     "name": "#%%\n"
    }
   }
  },
  {
   "cell_type": "code",
   "execution_count": null,
   "outputs": [],
   "source": [],
   "metadata": {
    "collapsed": false,
    "pycharm": {
     "name": "#%%\n"
    }
   }
  },
  {
   "cell_type": "code",
   "execution_count": null,
   "outputs": [],
   "source": [],
   "metadata": {
    "collapsed": false,
    "pycharm": {
     "name": "#%%\n"
    }
   }
  },
  {
   "cell_type": "code",
   "execution_count": null,
   "outputs": [],
   "source": [],
   "metadata": {
    "collapsed": false,
    "pycharm": {
     "name": "#%%\n"
    }
   }
  },
  {
   "cell_type": "code",
   "execution_count": null,
   "outputs": [],
   "source": [],
   "metadata": {
    "collapsed": false,
    "pycharm": {
     "name": "#%%\n"
    }
   }
  },
  {
   "cell_type": "code",
   "execution_count": null,
   "outputs": [],
   "source": [],
   "metadata": {
    "collapsed": false,
    "pycharm": {
     "name": "#%%\n"
    }
   }
  },
  {
   "cell_type": "code",
   "execution_count": null,
   "outputs": [],
   "source": [],
   "metadata": {
    "collapsed": false,
    "pycharm": {
     "name": "#%%\n"
    }
   }
  },
  {
   "cell_type": "code",
   "execution_count": null,
   "outputs": [],
   "source": [],
   "metadata": {
    "collapsed": false,
    "pycharm": {
     "name": "#%%\n"
    }
   }
  },
  {
   "cell_type": "code",
   "execution_count": null,
   "outputs": [],
   "source": [],
   "metadata": {
    "collapsed": false,
    "pycharm": {
     "name": "#%%\n"
    }
   }
  },
  {
   "cell_type": "code",
   "execution_count": null,
   "outputs": [],
   "source": [],
   "metadata": {
    "collapsed": false,
    "pycharm": {
     "name": "#%%\n"
    }
   }
  }
 ],
 "metadata": {
  "kernelspec": {
   "display_name": "Python 3",
   "language": "python",
   "name": "python3"
  },
  "language_info": {
   "codemirror_mode": {
    "name": "ipython",
    "version": 2
   },
   "file_extension": ".py",
   "mimetype": "text/x-python",
   "name": "python",
   "nbconvert_exporter": "python",
   "pygments_lexer": "ipython2",
   "version": "2.7.6"
  }
 },
 "nbformat": 4,
 "nbformat_minor": 0
}